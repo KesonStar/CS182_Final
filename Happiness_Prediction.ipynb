{
 "cells": [
  {
   "cell_type": "markdown",
   "metadata": {},
   "source": [
    "### 1. Import all the libraries and read the data"
   ]
  },
  {
   "cell_type": "code",
   "execution_count": 1,
   "metadata": {},
   "outputs": [],
   "source": [
    "import numpy as np\n",
    "import pandas as pd\n",
    "import matplotlib.pyplot as plt\n",
    "import sklearn\n",
    "import lightgbm as lgb\n",
    "import xgboost as xgb\n",
    "from Utils.calculate_metrics import calculate_multiclass_metrics\n",
    "\n",
    "from joblib import dump, load\n",
    "import warnings\n",
    "\n",
    "warnings.filterwarnings('ignore')"
   ]
  },
  {
   "cell_type": "code",
   "execution_count": 2,
   "metadata": {},
   "outputs": [
    {
     "data": {
      "text/plain": [
       "((7200, 139), (800, 139))"
      ]
     },
     "execution_count": 2,
     "metadata": {},
     "output_type": "execute_result"
    }
   ],
   "source": [
    "train_data = pd.read_csv('./Data/train.csv', index_col='id')\n",
    "test_data = pd.read_csv('./Data/test.csv', index_col='id')\n",
    "train_data.shape, test_data.shape"
   ]
  },
  {
   "cell_type": "markdown",
   "metadata": {},
   "source": [
    "### 2. Data preprocessing and Feature Engineering"
   ]
  },
  {
   "cell_type": "code",
   "execution_count": 3,
   "metadata": {},
   "outputs": [],
   "source": [
    "def preprocess_data_base(data: pd.DataFrame):\n",
    "    data = data.copy()\n",
    "    data = data[data[\"happiness\"] > 0]\n",
    "    \n",
    "    data.loc[:, \"survey_month\"] = data[\"survey_time\"].apply(lambda line: line.split(\" \")[0].split(\"/\")[1]).astype(\"int64\")\n",
    "    data.loc[:, \"survey_day\"] = data[\"survey_time\"].apply(lambda line: line.split(\" \")[0].split(\"/\")[2]).astype(\"int64\")\n",
    "    data.loc[:, \"survey_hour\"] = data[\"survey_time\"].apply(lambda line: line.split(\" \")[1].split(\":\")[0]).astype(\"int64\")\n",
    "    data = data.drop(columns='survey_time')\n",
    "    \n",
    "    data = data.drop(columns=['edu_other', 'property_other', 'invest_other', 'join_party'])\n",
    "    data = data.fillna(0)\n",
    "    \n",
    "    label = data.pop('happiness')\n",
    "    return data, label\n",
    "\n",
    "def preprocess_data_relevance(train_data: pd.DataFrame, selected_features: list = None) -> pd.DataFrame:\n",
    "    data = train_data.copy()\n",
    "    data = data[data[\"happiness\"] > 0]\n",
    "    \n",
    "    # Feature engineering\n",
    "    data.loc[:, \"survey_month\"] = data[\"survey_time\"].apply(lambda line: line.split(\" \")[0].split(\"/\")[1]).astype(\"int64\")\n",
    "    data.loc[:, \"survey_day\"] = data[\"survey_time\"].apply(lambda line: line.split(\" \")[0].split(\"/\")[2]).astype(\"int64\")\n",
    "    data.loc[:, \"survey_hour\"] = data[\"survey_time\"].apply(lambda line: line.split(\" \")[1].split(\":\")[0]).astype(\"int64\")\n",
    "    data.loc[:, \"age\"] = 2015 - data[\"birth\"]\n",
    "\n",
    "    data = data.drop(columns='survey_time')\n",
    "    data = data.drop(columns=['edu_other', 'property_other', 'invest_other', 'join_party'])\n",
    "\n",
    "    # Replace NaN in specific columns with 0\n",
    "    for column in ['work_status', 'work_yr', 'work_type', 'work_manage', 's_work_status', 's_work_type']:\n",
    "        data.loc[data[column].isna(), column] = 0\n",
    "    \n",
    "    # Replace remaining NaN values with mode\n",
    "    data = data.fillna(data.mode().iloc[0])\n",
    "\n",
    "    # Replace negative values with the mode for integer columns\n",
    "    for column in data.columns:\n",
    "        if data[column].dtype == np.int64:\n",
    "            data.loc[data[column] < 0, column] = data[column].mode().iloc[0]\n",
    "    \n",
    "    if selected_features is None:\n",
    "        corr_matrix = data.corr(method='pearson', numeric_only=True)['happiness'][abs(data.corr(method='pearson', numeric_only=True)['happiness'])>0.05]\n",
    "        features = corr_matrix.index.values.tolist()\n",
    "        features.extend(['age'])  # Adding age explicitly as it is not necessarily part of correlation\n",
    "        data_selected = data[features]\n",
    "    else:\n",
    "        selected_features.append('happiness')\n",
    "        data_selected = data[selected_features]  # Ensure the selected features match\n",
    "\n",
    "    label = data_selected.pop('happiness')\n",
    "    return data_selected, label\n",
    "\n",
    "def preprocess_data_precise(train_data):\n",
    "    \n",
    "    required_list = ['survey_type', 'province', 'city', 'county', 'survey_time', 'gender', 'birth', 'nationality', 'religion',\n",
    "                    'religion_freq', 'edu', 'income', 'political', 'floor_area', 'height_cm', 'weight_jin', 'health', 'health_problem',\n",
    "                    'depression', 'hukou', 'socialize', 'relax', 'learn', 'equity', 'class', 'work_exper', 'work_status', 'work_yr', 'work_type',\n",
    "                    'work_manage', 'family_income', 'family_m', 'family_status', 'house', 'car', 'marital', 'status_peer', 'status_3_before', \n",
    "                    'view', 'inc_ability']\n",
    "    continuous_list = ['birth', 'edu_yr', 'income', 'floor_area', 'height_cm', 'weight_jin', 'work_yr', 'family_income', 'family_m', 'house', 'son', \n",
    "                    'daughter', 'minor_child', 'marital_1st', 's_birth', 'marital_now', 's_income', 'f_birth', 'm_birth', 'inc_exp',\n",
    "                    'public_service_1', 'public_service_2', 'public_service_3', 'public_service_4', 'public_service_5', 'public_service_6',\n",
    "                    'public_service_7', 'public_service_8', 'public_service_9']\n",
    "    categorical_list = ['survey_type', 'province', 'gender', 'nationality']\n",
    "\n",
    "    train_data.drop((train_data[train_data[required_list].isna().sum(axis=1) > 0])[(train_data[train_data[required_list].isna().sum(axis=1) > 0].work_exper == 1)].index, inplace=True)\n",
    "    train_data.drop(train_data['family_income'].isna()[train_data['family_income'].isna()].index, inplace=True)\n",
    "    train_data.drop(train_data[(train_data['edu_status'] == 4) & (train_data['edu_yr'].isna())].index, inplace=True)\n",
    "\n",
    "    train_data[np.array(train_data['minor_child'].isna())].loc[:, 'son':'daughter']\n",
    "\n",
    "    train_data['minor_child'].fillna(0, inplace=True)\n",
    "\n",
    "    train_data.drop(train_data[train_data['s_birth'].isna()]['marital'][train_data[train_data['s_birth'].isna()]['marital'] == 2].index, inplace=True)\n",
    "    train_data.drop(train_data[train_data['marital_now'].isna()].loc[train_data[train_data['marital_now'].isna()]['marital'] == 3].index, inplace=True)\n",
    "\n",
    "    train_data.drop(train_data[train_data['edu_other'].isna()][train_data[train_data['edu_other'].isna()]['edu'] == 14].index, inplace=True)\n",
    "    train_data.drop(train_data[train_data['edu_status'].isna()][train_data[train_data['edu_status'].isna()]['edu'] == 3].index, inplace=True)\n",
    "\n",
    "    train_data.drop(train_data[train_data['join_party'].isna()][train_data[train_data['join_party'].isna()]['political'] == 4].index, inplace=True)\n",
    "\n",
    "    train_data['social_neighbor'].fillna(1, inplace=True)\n",
    "    train_data['social_friend'].fillna(1, inplace=True)\n",
    "\n",
    "    train_data.drop(train_data[train_data['s_work_status'].isna()][train_data[train_data['s_work_status'].isna()]['s_work_exper'] == 1].index, inplace=True)\n",
    "\n",
    "    no_ne_rows_index = (train_data.drop(['survey_time', 'edu_other', 'property_other', 'invest_other'], axis=1) < 0).sum(axis=1)[(train_data.drop(['survey_time', 'edu_other', 'property_other', 'invest_other'], axis=1) < 0).sum(axis=1) == 0].index\n",
    "    for column, content in train_data.items():\n",
    "        if pd.api.types.is_numeric_dtype(content):\n",
    "            train_data[column] = train_data[column].apply(lambda x : pd.Series(train_data.loc[no_ne_rows_index, :][column].unique()).median() if(x < 0 and x != np.nan) else x)\n",
    "    train_data.fillna(-1, inplace=True)\n",
    "\n",
    "    train_data['edu_other'] = train_data['edu_other'].astype('category').values.codes + 1\n",
    "    \n",
    "    # property_other\n",
    "    # train_data[train_data['property_other'] != -1]['property_other'].to_frame()\n",
    "    train_data.drop(columns=['property_other'], inplace=True)\n",
    "    train_data['invest_other'] = train_data['invest_other'].astype('category').values.codes + 1\n",
    "    data_nona = train_data.copy()\n",
    "    data_nona.drop(data_nona[data_nona['house'] > 25].index, inplace=True)\n",
    "    data_nona.drop(data_nona[data_nona['family_m'] > 40].index, inplace=True)\n",
    "    data_nona.drop(data_nona[data_nona['inc_exp'] > 0.6e8].index, inplace=True)\n",
    "    \n",
    "    data_nona['survey_time'] = pd.to_datetime(data_nona['survey_time'])\n",
    "    data_nona.drop(data_nona[data_nona['survey_time'].dt.month < 6].index, inplace=True)\n",
    "\n",
    "    ## change the survey_time back to M8[ns]\n",
    "    data_nona['survey_time'] = data_nona['survey_time'].astype('int64')\n",
    "    \n",
    "    \n",
    "    for column in continuous_list:\n",
    "        cut = pd.qcut(data_nona[column], q=5, duplicates='drop')\n",
    "        cat = cut.values\n",
    "        codes = cat.codes\n",
    "        data_nona[column + '_discrete'] = codes\n",
    "\n",
    "    for column, content in data_nona.items():\n",
    "        if pd.api.types.is_numeric_dtype(content):\n",
    "            data_nona[column] = content.astype('int')\n",
    "\n",
    "\n",
    "    data_nona.drop(columns=continuous_list, axis = 1, inplace=True)\n",
    "    label = data_nona.pop('happiness')\n",
    "    \n",
    "    return data_nona, label\n"
   ]
  },
  {
   "cell_type": "code",
   "execution_count": null,
   "metadata": {},
   "outputs": [],
   "source": []
  },
  {
   "cell_type": "code",
   "execution_count": 4,
   "metadata": {},
   "outputs": [
    {
     "data": {
      "text/plain": [
       "((7190, 136), (7190, 75))"
      ]
     },
     "execution_count": 4,
     "metadata": {},
     "output_type": "execute_result"
    }
   ],
   "source": [
    "train_df_base, train_label_base = preprocess_data_base(train_data)\n",
    "test_df_base, test_label_base = preprocess_data_base(test_data)\n",
    "\n",
    "train_df_relevance, train_label_relevance = preprocess_data_relevance(train_data)\n",
    "test_df_relevance, test_label_relevance = preprocess_data_relevance(test_data, selected_features=train_df_relevance.columns.tolist())\n",
    "\n",
    "\n",
    "\n",
    "\n",
    "train_df_base.shape, train_df_relevance.shape"
   ]
  },
  {
   "cell_type": "code",
   "execution_count": 5,
   "metadata": {},
   "outputs": [],
   "source": [
    "train_df_precise, train_label_precise = preprocess_data_precise(train_data)\n",
    "test_df_precise, test_label_precise = preprocess_data_precise(test_data)"
   ]
  },
  {
   "cell_type": "markdown",
   "metadata": {},
   "source": [
    "### 3. Basic Modeling:\n",
    "\n",
    "#### 3.1 Support Vector Machine (SVM)\n",
    "\n",
    "**Our observations:**\n",
    "\n",
    "- SVM can't handle such complex cases. It tends to predict the majority class (Happiness = 4).\n",
    "- PCA can't improve the performance of SVM.\n",
    "\n",
    "**Conclusion:** SVM is not a good choice for this dataset."
   ]
  },
  {
   "cell_type": "code",
   "execution_count": 5,
   "metadata": {},
   "outputs": [
    {
     "data": {
      "text/plain": [
       "({'MSE': 0.7894736842105263,\n",
       "  'Accuracy': 0.5726817042606517,\n",
       "  'Class Metrics': {1: {'TP': 0, 'TN': 784, 'FP': 0, 'FN': 14},\n",
       "   2: {'TP': 0, 'TN': 739, 'FP': 0, 'FN': 59},\n",
       "   3: {'TP': 0, 'TN': 671, 'FP': 1, 'FN': 126},\n",
       "   4: {'TP': 457, 'TN': 0, 'FP': 340, 'FN': 1},\n",
       "   5: {'TP': 0, 'TN': 657, 'FP': 0, 'FN': 141}},\n",
       "  'Unrounded MSE': 0.7894736842105263},\n",
       " {'MSE': 0.7882205513784462,\n",
       "  'Accuracy': 0.5739348370927319,\n",
       "  'Class Metrics': {1: {'TP': 0, 'TN': 784, 'FP': 0, 'FN': 14},\n",
       "   2: {'TP': 0, 'TN': 739, 'FP': 0, 'FN': 59},\n",
       "   3: {'TP': 0, 'TN': 672, 'FP': 0, 'FN': 126},\n",
       "   4: {'TP': 458, 'TN': 0, 'FP': 340, 'FN': 0},\n",
       "   5: {'TP': 0, 'TN': 657, 'FP': 0, 'FN': 141}},\n",
       "  'Unrounded MSE': 0.7882205513784462})"
      ]
     },
     "execution_count": 5,
     "metadata": {},
     "output_type": "execute_result"
    }
   ],
   "source": [
    "from sklearn import svm\n",
    "from sklearn import metrics\n",
    "\n",
    "svc_rbf1 = svm.SVC(kernel='rbf', C=1)\n",
    "svc_rbf2 = svm.SVC(kernel='rbf', C=1)\n",
    "\n",
    "svc_rbf1.fit(train_df_base, train_label_base)\n",
    "svc_rbf2.fit(train_df_relevance, train_label_relevance)\n",
    "\n",
    "predict_base = svc_rbf1.predict(test_df_base)\n",
    "predict_relevance = svc_rbf2.predict(test_df_relevance)\n",
    "\n",
    "\n",
    "\n",
    "metric1 = calculate_multiclass_metrics(test_label_base, predict_base, [1, 2, 3, 4, 5])\n",
    "metric2 = calculate_multiclass_metrics(test_label_relevance, predict_relevance, [1, 2, 3, 4, 5])\n",
    "metric1, metric2\n"
   ]
  },
  {
   "cell_type": "code",
   "execution_count": 6,
   "metadata": {},
   "outputs": [
    {
     "name": "stdout",
     "output_type": "stream",
     "text": [
      "(7190, 4) (798, 4)\n",
      "MSE: 0.7894736842105263 Accuracy: 0.5726817042606517\n"
     ]
    },
    {
     "data": {
      "text/plain": [
       "(array([666]),)"
      ]
     },
     "execution_count": 6,
     "metadata": {},
     "output_type": "execute_result"
    }
   ],
   "source": [
    "from sklearn.decomposition import PCA\n",
    "\n",
    "pca = PCA(n_components = 4)\n",
    "reduced_train = pca.fit_transform(train_df_base)\n",
    "reduced_test = pca.fit_transform(test_df_base)\n",
    "\n",
    "print(reduced_train.shape, reduced_test.shape)\n",
    "\n",
    "svc_rbf = svm.SVC(kernel='rbf')\n",
    "svc_rbf.fit(reduced_train, train_label_base)\n",
    "\n",
    "predict = svc_rbf.predict(reduced_test)\n",
    "\n",
    "mse = metrics.mean_squared_error(test_label_base, predict)\n",
    "accuracy = metrics.accuracy_score(test_label_base, predict)\n",
    "\n",
    "print('MSE:', mse, end=' ')\n",
    "print('Accuracy:', accuracy)\n",
    "\n",
    "np.where(predict!=4)"
   ]
  },
  {
   "cell_type": "markdown",
   "metadata": {},
   "source": [
    "### 3.2 Ridge Regression\n",
    "\n",
    "**Our observations:**\n",
    "- Betther than SVM when it comes to the mse. \n",
    "- Perform poorly in terms of the accuracy.\n",
    "- It seems underfit or the model is too simple for this dataset. We try to evaluate the model with training data but the model is not able to capture the complexity of the data.\n",
    "\n",
    "**Conclusion:**\n",
    "Ridge Regression is not a good choice for this dataset."
   ]
  },
  {
   "cell_type": "code",
   "execution_count": 20,
   "metadata": {},
   "outputs": [
    {
     "data": {
      "text/plain": [
       "({'MSE': 0.6265664160401002,\n",
       "  'Accuracy': 0.5764411027568922,\n",
       "  'Class Metrics': {1: {'TP': 0, 'TN': 783, 'FP': 1, 'FN': 14},\n",
       "   2: {'TP': 1, 'TN': 736, 'FP': 3, 'FN': 58},\n",
       "   3: {'TP': 47, 'TN': 565, 'FP': 107, 'FN': 79},\n",
       "   4: {'TP': 393, 'TN': 122, 'FP': 218, 'FN': 65},\n",
       "   5: {'TP': 19, 'TN': 648, 'FP': 9, 'FN': 122}},\n",
       "  'Unrounded MSE': 0.5970765370129141},\n",
       " {'MSE': 0.5827067669172933,\n",
       "  'Accuracy': 0.5764411027568922,\n",
       "  'Class Metrics': {1: {'TP': 0, 'TN': 784, 'FP': 0, 'FN': 14},\n",
       "   2: {'TP': 0, 'TN': 735, 'FP': 4, 'FN': 59},\n",
       "   3: {'TP': 45, 'TN': 562, 'FP': 110, 'FN': 81},\n",
       "   4: {'TP': 389, 'TN': 127, 'FP': 213, 'FN': 69},\n",
       "   5: {'TP': 26, 'TN': 646, 'FP': 11, 'FN': 115}},\n",
       "  'Unrounded MSE': 0.536173360532307})"
      ]
     },
     "execution_count": 20,
     "metadata": {},
     "output_type": "execute_result"
    }
   ],
   "source": [
    "from sklearn import linear_model\n",
    "\n",
    "ridge1 = linear_model.Ridge()\n",
    "ridge2 = linear_model.Ridge()\n",
    "ridge3 = linear_model.Ridge()\n",
    "\n",
    "ridge1.fit(train_df_base, train_label_base)\n",
    "ridge2.fit(train_df_relevance, train_label_relevance)\n",
    "\n",
    "predict_base = ridge1.predict(test_df_base)\n",
    "predict_relevance = ridge2.predict(test_df_relevance)\n",
    "\n",
    "metric1 = calculate_multiclass_metrics(test_label_base, predict_base, [1, 2, 3, 4, 5])\n",
    "metric2 = calculate_multiclass_metrics(test_label_relevance, predict_relevance, [1, 2, 3, 4, 5])\n",
    "\n",
    "metric1, metric2\n"
   ]
  },
  {
   "cell_type": "markdown",
   "metadata": {},
   "source": [
    "### 3.3 Logistic Regression\n",
    "\n",
    "**Our observations:**\n",
    "- Similar to SVM, Logistic Regression can't handle such complex cases. It tends to predict the majority class (Happiness = 4).\n",
    "- PCA will even make the performance worse.\n",
    "\n",
    "**Conclusion:** \n",
    "Logistic Regression is not a good choice for this dataset."
   ]
  },
  {
   "cell_type": "code",
   "execution_count": 13,
   "metadata": {},
   "outputs": [
    {
     "data": {
      "text/plain": [
       "({'MSE': 0.7944862155388471,\n",
       "  'Accuracy': 0.5714285714285714,\n",
       "  'Class Metrics': {1: {'TP': 0, 'TN': 784, 'FP': 0, 'FN': 14},\n",
       "   2: {'TP': 0, 'TN': 738, 'FP': 1, 'FN': 59},\n",
       "   3: {'TP': 0, 'TN': 671, 'FP': 1, 'FN': 126},\n",
       "   4: {'TP': 456, 'TN': 0, 'FP': 340, 'FN': 2},\n",
       "   5: {'TP': 0, 'TN': 657, 'FP': 0, 'FN': 141}},\n",
       "  'Unrounded MSE': 0.7944862155388471},\n",
       " {'MSE': 0.7882205513784462,\n",
       "  'Accuracy': 0.5739348370927319,\n",
       "  'Class Metrics': {1: {'TP': 0, 'TN': 784, 'FP': 0, 'FN': 14},\n",
       "   2: {'TP': 0, 'TN': 739, 'FP': 0, 'FN': 59},\n",
       "   3: {'TP': 0, 'TN': 672, 'FP': 0, 'FN': 126},\n",
       "   4: {'TP': 458, 'TN': 0, 'FP': 340, 'FN': 0},\n",
       "   5: {'TP': 0, 'TN': 657, 'FP': 0, 'FN': 141}},\n",
       "  'Unrounded MSE': 0.7882205513784462})"
      ]
     },
     "execution_count": 13,
     "metadata": {},
     "output_type": "execute_result"
    }
   ],
   "source": [
    "from sklearn import linear_model    \n",
    "from sklearn import metrics\n",
    "\n",
    "logistic1 = linear_model.LogisticRegression()\n",
    "logistic2 = linear_model.LogisticRegression()\n",
    "\n",
    "logistic1.fit(train_df_base, train_label_base)\n",
    "logistic2.fit(train_df_relevance, train_label_relevance)\n",
    "\n",
    "predict_base = logistic1.predict(test_df_base)\n",
    "predict_relevance = logistic2.predict(test_df_relevance)\n",
    "\n",
    "metric1 = calculate_multiclass_metrics(test_label_base, predict_base, [1, 2, 3, 4, 5])\n",
    "metric2 = calculate_multiclass_metrics(test_label_relevance, predict_relevance, [1, 2, 3, 4, 5])\n",
    "\n",
    "metric1, metric2"
   ]
  },
  {
   "cell_type": "code",
   "execution_count": 19,
   "metadata": {},
   "outputs": [
    {
     "name": "stdout",
     "output_type": "stream",
     "text": [
      "MSE: 1.3922305764411027 Accuracy: 0.4523809523809524\n"
     ]
    }
   ],
   "source": [
    "from sklearn.decomposition import PCA\n",
    "\n",
    "pca = PCA(n_components = 8)\n",
    "reduced_train = pca.fit_transform(train_df_base)\n",
    "reduced_test = pca.fit_transform(test_df_base)\n",
    "\n",
    "logistic = linear_model.LogisticRegression()\n",
    "logistic.fit(reduced_train, train_label_base)\n",
    "\n",
    "predict = logistic.predict(reduced_test)\n",
    "\n",
    "mse = metrics.mean_squared_error(test_label_base, predict)\n",
    "accuracy = metrics.accuracy_score(test_label_base, predict)\n",
    "\n",
    "print('MSE:', mse, end=' ')\n",
    "print('Accuracy:', accuracy)\n",
    "\n"
   ]
  },
  {
   "cell_type": "markdown",
   "metadata": {},
   "source": [
    "### 4. Advanced Modeling:\n",
    "\n",
    "### 4.1 LightGBM\n",
    "\n",
    "**Our observations:**\n",
    "\n",
    "\n",
    "**Conclusion:**"
   ]
  },
  {
   "cell_type": "code",
   "execution_count": 5,
   "metadata": {},
   "outputs": [
    {
     "name": "stdout",
     "output_type": "stream",
     "text": [
      "[LightGBM] [Info] Auto-choosing row-wise multi-threading, the overhead of testing was 0.002499 seconds.\n",
      "You can set `force_row_wise=true` to remove the overhead.\n",
      "And if memory is not enough, you can set `force_col_wise=true`.\n",
      "[LightGBM] [Info] Total Bins 3077\n",
      "[LightGBM] [Info] Number of data points in the train set: 7190, number of used features: 132\n",
      "[LightGBM] [Info] Start training from score 3.873435\n",
      "[LightGBM] [Info] Auto-choosing row-wise multi-threading, the overhead of testing was 0.000594 seconds.\n",
      "You can set `force_row_wise=true` to remove the overhead.\n",
      "And if memory is not enough, you can set `force_col_wise=true`.\n",
      "[LightGBM] [Info] Total Bins 1283\n",
      "[LightGBM] [Info] Number of data points in the train set: 7190, number of used features: 75\n",
      "[LightGBM] [Info] Start training from score 3.873435\n"
     ]
    },
    {
     "data": {
      "text/plain": [
       "({'MSE': 0.6228070175438597,\n",
       "  'Accuracy': 0.5776942355889725,\n",
       "  'Class Metrics': {1: {'TP': 1, 'TN': 784, 'FP': 0, 'FN': 13},\n",
       "   2: {'TP': 7, 'TN': 726, 'FP': 13, 'FN': 52},\n",
       "   3: {'TP': 53, 'TN': 573, 'FP': 99, 'FN': 73},\n",
       "   4: {'TP': 380, 'TN': 136, 'FP': 204, 'FN': 78},\n",
       "   5: {'TP': 20, 'TN': 636, 'FP': 21, 'FN': 121}},\n",
       "  'Unrounded MSE': 0.5550902570811506},\n",
       " {'MSE': 0.6453634085213033,\n",
       "  'Accuracy': 0.5651629072681704,\n",
       "  'Class Metrics': {1: {'TP': 1, 'TN': 784, 'FP': 0, 'FN': 13},\n",
       "   2: {'TP': 10, 'TN': 722, 'FP': 17, 'FN': 49},\n",
       "   3: {'TP': 49, 'TN': 572, 'FP': 100, 'FN': 77},\n",
       "   4: {'TP': 364, 'TN': 141, 'FP': 199, 'FN': 94},\n",
       "   5: {'TP': 27, 'TN': 626, 'FP': 31, 'FN': 114}},\n",
       "  'Unrounded MSE': 0.5791230813602934})"
      ]
     },
     "execution_count": 5,
     "metadata": {},
     "output_type": "execute_result"
    }
   ],
   "source": [
    "import lightgbm as lgb\n",
    "from sklearn import metrics\n",
    "import os\n",
    "\n",
    "os.environ[\"KMP_DUPLICATE_LIB_OK\"]=\"TRUE\"\n",
    "\n",
    "lgbR1 = lgb.LGBMRegressor(n_estimators=10000)\n",
    "lgbR2 = lgb.LGBMRegressor(n_estimators=10000)\n",
    "\n",
    "\n",
    "lgbR1.fit(train_df_base, train_label_base)\n",
    "lgbR2.fit(train_df_relevance, train_label_relevance)\n",
    "\n",
    "predict_base = lgbR1.predict(test_df_base)\n",
    "predict_relevance = lgbR2.predict(test_df_relevance)\n",
    "\n",
    "metric1 = calculate_multiclass_metrics(test_label_base, predict_base, [1, 2, 3, 4, 5])\n",
    "metric2 = calculate_multiclass_metrics(test_label_relevance, predict_relevance, [1, 2, 3, 4, 5])\n",
    "\n",
    "metric1, metric2\n",
    "\n",
    "\n"
   ]
  },
  {
   "cell_type": "code",
   "execution_count": 11,
   "metadata": {},
   "outputs": [
    {
     "name": "stdout",
     "output_type": "stream",
     "text": [
      "\n",
      "Feature Importance (Base):\n",
      "           feature  importance\n",
      "14      floor_area       10509\n",
      "134     survey_day        8559\n",
      "25      weight_jin        7841\n",
      "24       height_cm        7387\n",
      "69   family_income        7277\n",
      "..             ...         ...\n",
      "21      property_6           9\n",
      "79        invest_5           0\n",
      "80        invest_6           0\n",
      "81        invest_7           0\n",
      "82        invest_8           0\n",
      "\n",
      "[136 rows x 2 columns]\n"
     ]
    },
    {
     "data": {
      "image/png": "[encoded data removed]",
      "text/plain": [
       "<Figure size 1000x600 with 1 Axes>"
      ]
     },
     "metadata": {},
     "output_type": "display_data"
    }
   ],
   "source": [
    "import seaborn as sns\n",
    "\n",
    "importance_base = pd.DataFrame({\n",
    "    'feature': train_df_base.columns,\n",
    "    'importance': lgbR1.feature_importances_\n",
    "}).sort_values(by='importance', ascending=False)\n",
    "\n",
    "importance_relevance = pd.DataFrame({\n",
    "    'feature': train_df_relevance.columns,\n",
    "    'importance': lgbR2.feature_importances_\n",
    "}).sort_values(by='importance', ascending=False)\n",
    "\n",
    "# 打印结果\n",
    "\n",
    "print(\"\\nFeature Importance (Base):\")\n",
    "print(importance_base)\n",
    "\n",
    "def plot_feature_importance(importance_df, title):\n",
    "    plt.figure(figsize=(10, 6))\n",
    "    sns.barplot(\n",
    "        x=\"importance\", \n",
    "        y=\"feature\", \n",
    "        data=importance_df.tail(20),  # 展示前 20 个最重要特征\n",
    "        palette=\"viridis\"\n",
    "    )\n",
    "    plt.title(title)\n",
    "    plt.xlabel(\"Feature Least Importance\")\n",
    "    plt.ylabel(\"Features\")\n",
    "    plt.tight_layout()\n",
    "    plt.show()\n",
    "    \n",
    "plot_feature_importance(importance_base, \"Feature Least Importance (Base)\")\n"
   ]
  },
  {
   "cell_type": "code",
   "execution_count": 9,
   "metadata": {},
   "outputs": [
    {
     "data": {
      "text/plain": [
       "{'MSE': 0.5776942355889725,\n",
       " 'Accuracy': 0.5852130325814536,\n",
       " 'Class Metrics': {1: {'TP': 0, 'TN': 784, 'FP': 0, 'FN': 14},\n",
       "  2: {'TP': 3, 'TN': 731, 'FP': 8, 'FN': 56},\n",
       "  3: {'TP': 51, 'TN': 571, 'FP': 99, 'FN': 77},\n",
       "  4: {'TP': 393, 'TN': 124, 'FP': 218, 'FN': 63},\n",
       "  5: {'TP': 20, 'TN': 651, 'FP': 6, 'FN': 121}},\n",
       " 'Unrounded MSE': 0.5265001708733944}"
      ]
     },
     "execution_count": 9,
     "metadata": {},
     "output_type": "execute_result"
    }
   ],
   "source": [
    "lgbr3 = lgb.LGBMRegressor(num_leaves=7,min_data_in_leaf=20,objective='regression',max_depth=-1,learning_rate=0.003,\n",
    "                              boosting='gbdt',feature_fraction=0.18,bagging_freq=1,bagging_fraction=0.55,bagging_seed=14,\n",
    "                              metric='mse',lambda_l1=0.1,lambda_l2=0.2,verbosity=-1, n_estimators=10000)\n",
    "\n",
    "lgbr3.fit(train_df_precise, train_label_precise)\n",
    "predict_precise = lgbr3.predict(test_df_precise)\n",
    "metric_precise = calculate_multiclass_metrics(test_label_precise, predict_precise, [1, 2, 3, 4, 5])\n",
    "\n",
    "metric_precise"
   ]
  },
  {
   "cell_type": "code",
   "execution_count": null,
   "metadata": {},
   "outputs": [],
   "source": []
  },
  {
   "cell_type": "code",
   "execution_count": 11,
   "metadata": {},
   "outputs": [
    {
     "name": "stdout",
     "output_type": "stream",
     "text": [
      "MSE: 0.5877192982456141 "
     ]
    }
   ],
   "source": [
    "import lightgbm as lgb\n",
    "from sklearn import metrics\n",
    "\n",
    "clf_lightgbm_modified=lgb.LGBMRegressor(metric='l2',colsample_bytree=0.8,learning_rate=0.1,\n",
    "                                             max_depth=7,min_child_weight=0,min_split_gain=0.1,\n",
    "                                             reg_alpha=1,reg_lambda=0.0001,subsample=0.5, n_estimators=10000)   \n",
    "\n",
    "clf_lightgbm_modified.fit(train_df_base, train_label_base)\n",
    "\n",
    "predict = clf_lightgbm_modified.predict(test_df_base)\n",
    "predict = np.round(predict)\n",
    "mse = metrics.mean_squared_error(test_label_base, predict)\n",
    "# accuracy = metrics.accuracy_score(test_label_precise, predict)\n",
    "\n",
    "print('MSE:', mse, end=' ')\n",
    "# print('Accuracy:', accuracy)\n"
   ]
  },
  {
   "cell_type": "markdown",
   "metadata": {},
   "source": [
    "#### 4.2 XGBoost\n",
    "\n",
    "**Our observations:**\n",
    "\n",
    "\n",
    "\n",
    "**Conclusion:**"
   ]
  },
  {
   "cell_type": "code",
   "execution_count": 17,
   "metadata": {},
   "outputs": [
    {
     "data": {
      "text/plain": [
       "({'MSE': 0.6604010025062657,\n",
       "  'Accuracy': 0.5626566416040101,\n",
       "  'Class Metrics': {1: {'TP': 0, 'TN': 784, 'FP': 0, 'FN': 14},\n",
       "   2: {'TP': 10, 'TN': 728, 'FP': 11, 'FN': 49},\n",
       "   3: {'TP': 55, 'TN': 565, 'FP': 107, 'FN': 71},\n",
       "   4: {'TP': 360, 'TN': 145, 'FP': 195, 'FN': 98},\n",
       "   5: {'TP': 24, 'TN': 621, 'FP': 36, 'FN': 117}},\n",
       "  'Unrounded MSE': 0.6030856177106182},\n",
       " {'MSE': 0.6290726817042607,\n",
       "  'Accuracy': 0.5651629072681704,\n",
       "  'Class Metrics': {1: {'TP': 1, 'TN': 783, 'FP': 1, 'FN': 13},\n",
       "   2: {'TP': 8, 'TN': 727, 'FP': 12, 'FN': 51},\n",
       "   3: {'TP': 49, 'TN': 573, 'FP': 99, 'FN': 77},\n",
       "   4: {'TP': 368, 'TN': 138, 'FP': 202, 'FN': 90},\n",
       "   5: {'TP': 25, 'TN': 625, 'FP': 32, 'FN': 116}},\n",
       "  'Unrounded MSE': 0.5711537677684208})"
      ]
     },
     "execution_count": 17,
     "metadata": {},
     "output_type": "execute_result"
    }
   ],
   "source": [
    "import xgboost as xgb\n",
    "\n",
    "\n",
    "xgboost1 = xgb.XGBRegressor()\n",
    "xgboost2 = xgb.XGBRegressor()\n",
    "\n",
    "\n",
    "xgboost1.fit(train_df_base, train_label_base)\n",
    "xgboost2.fit(train_df_relevance, train_label_relevance)\n",
    "\n",
    "predict_base = xgboost1.predict(test_df_base)\n",
    "predict_relevance = xgboost2.predict(test_df_relevance)\n",
    "\n",
    "metric1 = calculate_multiclass_metrics(test_label_base, predict_base, [1, 2, 3, 4, 5])\n",
    "metric2 = calculate_multiclass_metrics(test_label_relevance, predict_relevance, [1, 2, 3, 4, 5])\n",
    "\n",
    "metric1, metric2"
   ]
  },
  {
   "cell_type": "markdown",
   "metadata": {},
   "source": [
    "#### 4.3 LightGBM Essambled with XGBoost"
   ]
  },
  {
   "cell_type": "code",
   "execution_count": 19,
   "metadata": {},
   "outputs": [
    {
     "name": "stdout",
     "output_type": "stream",
     "text": [
      "[LightGBM] [Info] Auto-choosing row-wise multi-threading, the overhead of testing was 0.000559 seconds.\n",
      "You can set `force_row_wise=true` to remove the overhead.\n",
      "And if memory is not enough, you can set `force_col_wise=true`.\n",
      "[LightGBM] [Info] Total Bins 1283\n",
      "[LightGBM] [Info] Number of data points in the train set: 7190, number of used features: 75\n",
      "[LightGBM] [Info] Start training from score 3.873435\n",
      "[LightGBM] [Warning] No further splits with positive gain, best gain: -inf\n",
      "[LightGBM] [Warning] No further splits with positive gain, best gain: -inf\n",
      "[LightGBM] [Warning] No further splits with positive gain, best gain: -inf\n",
      "[LightGBM] [Warning] No further splits with positive gain, best gain: -inf\n",
      "[LightGBM] [Warning] No further splits with positive gain, best gain: -inf\n",
      "[LightGBM] [Warning] No further splits with positive gain, best gain: -inf\n",
      "[LightGBM] [Warning] No further splits with positive gain, best gain: -inf\n",
      "[LightGBM] [Warning] No further splits with positive gain, best gain: -inf\n",
      "[LightGBM] [Warning] No further splits with positive gain, best gain: -inf\n",
      "[LightGBM] [Warning] No further splits with positive gain, best gain: -inf\n",
      "MSE: 0.5852130325814536 Accuracy: 0.5877192982456141\n"
     ]
    }
   ],
   "source": [
    "from sklearn import metrics\n",
    "xgboost = xgb.XGBRegressor(max_depth=4,min_child_weight=0.5,gamma=0.4,subsample=0.7,colsample_bytree=0.8,reg_alpha=1,reg_lambda=0.001)   \n",
    "lgbm = lgb.LGBMRegressor(metric='l2',colsample_bytree=0.8,learning_rate=0.1,\n",
    "                                             max_depth=7,min_child_weight=0,\n",
    "                                             reg_alpha=1,reg_lambda=0.0001,subsample=0.5)   \n",
    "\n",
    "xgboost.fit(train_df_relevance, train_label_relevance)\n",
    "lgbm.fit(train_df_relevance, train_label_relevance)\n",
    "\n",
    "predict_xgboost = xgboost.predict(test_df_relevance)\n",
    "predict_lgbm = lgbm.predict(test_df_relevance)\n",
    "\n",
    "predict = (predict_xgboost + predict_lgbm) / 2\n",
    "\n",
    "predict = np.round(predict)\n",
    "mse = metrics.mean_squared_error(test_label_relevance, predict)\n",
    "accuracy = metrics.accuracy_score(test_label_relevance, predict)\n",
    "\n",
    "print('MSE:', mse, end=' ')\n",
    "    \n",
    "print('Accuracy:', accuracy)"
   ]
  },
  {
   "cell_type": "code",
   "execution_count": null,
   "metadata": {},
   "outputs": [],
   "source": []
  }
 ],
 "metadata": {
  "kernelspec": {
   "display_name": "ml",
   "language": "python",
   "name": "python3"
  },
  "language_info": {
   "codemirror_mode": {
    "name": "ipython",
    "version": 3
   },
   "file_extension": ".py",
   "mimetype": "text/x-python",
   "name": "python",
   "nbconvert_exporter": "python",
   "pygments_lexer": "ipython3",
   "version": "3.8.20"
  }
 },
 "nbformat": 4,
 "nbformat_minor": 2
}
